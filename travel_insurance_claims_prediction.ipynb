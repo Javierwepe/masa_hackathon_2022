{
  "cells": [
    {
      "cell_type": "markdown",
      "metadata": {
        "id": "ZUqiI9iQ4xIA"
      },
      "source": [
        "# Travel Insurance Claims Prediction"
      ]
    },
    {
      "cell_type": "markdown",
      "metadata": {},
      "source": [
        "(Created using Google Colaboratory)"
      ]
    },
    {
      "cell_type": "code",
      "execution_count": 4,
      "metadata": {
        "id": "iD3OJa6C4xID",
        "vscode": {
          "languageId": "python"
        }
      },
      "outputs": [],
      "source": [
        "import pandas as pd\n",
        "import numpy as np\n",
        "import matplotlib.pyplot as plt\n",
        "import xgboost as xgb\n",
        "import shap\n",
        "\n",
        "from sklearn.impute import KNNImputer\n",
        "from sklearn.model_selection import train_test_split, cross_val_score\n",
        "from sklearn.metrics import accuracy_score, confusion_matrix, classification_report, roc_auc_score\n",
        "from imblearn.over_sampling import *\n",
        "from imblearn.under_sampling import *\n",
        "from bayes_opt import BayesianOptimization\n",
        "from xgboost import plot_importance"
      ]
    },
    {
      "cell_type": "markdown",
      "metadata": {
        "id": "WKMeboR84xIE"
      },
      "source": [
        "### Load Travel Insurance Dataset"
      ]
    },
    {
      "cell_type": "code",
      "execution_count": 5,
      "metadata": {
        "id": "szioXL1y4xIF",
        "vscode": {
          "languageId": "python"
        }
      },
      "outputs": [],
      "source": [
        "travel_df = pd.read_csv('https://raw.githubusercontent.com/matthewfarant/masa_hackathon_2022/main/travel_insurance_dataset.csv?token=GHSAT0AAAAAABWYHOFPCIHMEPKWY7EJNSTCYXXN3SA')"
      ]
    },
    {
      "cell_type": "code",
      "execution_count": 6,
      "metadata": {
        "colab": {
          "base_uri": "https://localhost:8080/",
          "height": 250
        },
        "id": "KG04o64h4xIF",
        "outputId": "52891a92-9a7f-4940-d0d9-0c47863b43e4",
        "vscode": {
          "languageId": "python"
        }
      },
      "outputs": [
        {
          "data": {
            "text/html": [
              "\n",
              "  <div id=\"df-a6730428-70d6-40d8-ace1-0e154b4fb35d\">\n",
              "    <div class=\"colab-df-container\">\n",
              "      <div>\n",
              "<style scoped>\n",
              "    .dataframe tbody tr th:only-of-type {\n",
              "        vertical-align: middle;\n",
              "    }\n",
              "\n",
              "    .dataframe tbody tr th {\n",
              "        vertical-align: top;\n",
              "    }\n",
              "\n",
              "    .dataframe thead th {\n",
              "        text-align: right;\n",
              "    }\n",
              "</style>\n",
              "<table border=\"1\" class=\"dataframe\">\n",
              "  <thead>\n",
              "    <tr style=\"text-align: right;\">\n",
              "      <th></th>\n",
              "      <th>Agency</th>\n",
              "      <th>Agency Type</th>\n",
              "      <th>Distribution Channel</th>\n",
              "      <th>Product Name</th>\n",
              "      <th>Claim</th>\n",
              "      <th>Duration</th>\n",
              "      <th>Destination</th>\n",
              "      <th>Net Sales</th>\n",
              "      <th>Commision (in value)</th>\n",
              "      <th>Gender</th>\n",
              "      <th>Age</th>\n",
              "    </tr>\n",
              "  </thead>\n",
              "  <tbody>\n",
              "    <tr>\n",
              "      <th>0</th>\n",
              "      <td>CBH</td>\n",
              "      <td>Travel Agency</td>\n",
              "      <td>Offline</td>\n",
              "      <td>Comprehensive Plan</td>\n",
              "      <td>No</td>\n",
              "      <td>186</td>\n",
              "      <td>MALAYSIA</td>\n",
              "      <td>-29.0</td>\n",
              "      <td>9.57</td>\n",
              "      <td>F</td>\n",
              "      <td>81</td>\n",
              "    </tr>\n",
              "    <tr>\n",
              "      <th>1</th>\n",
              "      <td>CBH</td>\n",
              "      <td>Travel Agency</td>\n",
              "      <td>Offline</td>\n",
              "      <td>Comprehensive Plan</td>\n",
              "      <td>No</td>\n",
              "      <td>186</td>\n",
              "      <td>MALAYSIA</td>\n",
              "      <td>-29.0</td>\n",
              "      <td>9.57</td>\n",
              "      <td>F</td>\n",
              "      <td>71</td>\n",
              "    </tr>\n",
              "    <tr>\n",
              "      <th>2</th>\n",
              "      <td>CWT</td>\n",
              "      <td>Travel Agency</td>\n",
              "      <td>Online</td>\n",
              "      <td>Rental Vehicle Excess Insurance</td>\n",
              "      <td>No</td>\n",
              "      <td>65</td>\n",
              "      <td>AUSTRALIA</td>\n",
              "      <td>-49.5</td>\n",
              "      <td>29.70</td>\n",
              "      <td>NaN</td>\n",
              "      <td>32</td>\n",
              "    </tr>\n",
              "    <tr>\n",
              "      <th>3</th>\n",
              "      <td>CWT</td>\n",
              "      <td>Travel Agency</td>\n",
              "      <td>Online</td>\n",
              "      <td>Rental Vehicle Excess Insurance</td>\n",
              "      <td>No</td>\n",
              "      <td>60</td>\n",
              "      <td>AUSTRALIA</td>\n",
              "      <td>-39.6</td>\n",
              "      <td>23.76</td>\n",
              "      <td>NaN</td>\n",
              "      <td>32</td>\n",
              "    </tr>\n",
              "    <tr>\n",
              "      <th>4</th>\n",
              "      <td>CWT</td>\n",
              "      <td>Travel Agency</td>\n",
              "      <td>Online</td>\n",
              "      <td>Rental Vehicle Excess Insurance</td>\n",
              "      <td>No</td>\n",
              "      <td>79</td>\n",
              "      <td>ITALY</td>\n",
              "      <td>-19.8</td>\n",
              "      <td>11.88</td>\n",
              "      <td>NaN</td>\n",
              "      <td>41</td>\n",
              "    </tr>\n",
              "  </tbody>\n",
              "</table>\n",
              "</div>\n",
              "      <button class=\"colab-df-convert\" onclick=\"convertToInteractive('df-a6730428-70d6-40d8-ace1-0e154b4fb35d')\"\n",
              "              title=\"Convert this dataframe to an interactive table.\"\n",
              "              style=\"display:none;\">\n",
              "        \n",
              "  <svg xmlns=\"http://www.w3.org/2000/svg\" height=\"24px\"viewBox=\"0 0 24 24\"\n",
              "       width=\"24px\">\n",
              "    <path d=\"M0 0h24v24H0V0z\" fill=\"none\"/>\n",
              "    <path d=\"M18.56 5.44l.94 2.06.94-2.06 2.06-.94-2.06-.94-.94-2.06-.94 2.06-2.06.94zm-11 1L8.5 8.5l.94-2.06 2.06-.94-2.06-.94L8.5 2.5l-.94 2.06-2.06.94zm10 10l.94 2.06.94-2.06 2.06-.94-2.06-.94-.94-2.06-.94 2.06-2.06.94z\"/><path d=\"M17.41 7.96l-1.37-1.37c-.4-.4-.92-.59-1.43-.59-.52 0-1.04.2-1.43.59L10.3 9.45l-7.72 7.72c-.78.78-.78 2.05 0 2.83L4 21.41c.39.39.9.59 1.41.59.51 0 1.02-.2 1.41-.59l7.78-7.78 2.81-2.81c.8-.78.8-2.07 0-2.86zM5.41 20L4 18.59l7.72-7.72 1.47 1.35L5.41 20z\"/>\n",
              "  </svg>\n",
              "      </button>\n",
              "      \n",
              "  <style>\n",
              "    .colab-df-container {\n",
              "      display:flex;\n",
              "      flex-wrap:wrap;\n",
              "      gap: 12px;\n",
              "    }\n",
              "\n",
              "    .colab-df-convert {\n",
              "      background-color: #E8F0FE;\n",
              "      border: none;\n",
              "      border-radius: 50%;\n",
              "      cursor: pointer;\n",
              "      display: none;\n",
              "      fill: #1967D2;\n",
              "      height: 32px;\n",
              "      padding: 0 0 0 0;\n",
              "      width: 32px;\n",
              "    }\n",
              "\n",
              "    .colab-df-convert:hover {\n",
              "      background-color: #E2EBFA;\n",
              "      box-shadow: 0px 1px 2px rgba(60, 64, 67, 0.3), 0px 1px 3px 1px rgba(60, 64, 67, 0.15);\n",
              "      fill: #174EA6;\n",
              "    }\n",
              "\n",
              "    [theme=dark] .colab-df-convert {\n",
              "      background-color: #3B4455;\n",
              "      fill: #D2E3FC;\n",
              "    }\n",
              "\n",
              "    [theme=dark] .colab-df-convert:hover {\n",
              "      background-color: #434B5C;\n",
              "      box-shadow: 0px 1px 3px 1px rgba(0, 0, 0, 0.15);\n",
              "      filter: drop-shadow(0px 1px 2px rgba(0, 0, 0, 0.3));\n",
              "      fill: #FFFFFF;\n",
              "    }\n",
              "  </style>\n",
              "\n",
              "      <script>\n",
              "        const buttonEl =\n",
              "          document.querySelector('#df-a6730428-70d6-40d8-ace1-0e154b4fb35d button.colab-df-convert');\n",
              "        buttonEl.style.display =\n",
              "          google.colab.kernel.accessAllowed ? 'block' : 'none';\n",
              "\n",
              "        async function convertToInteractive(key) {\n",
              "          const element = document.querySelector('#df-a6730428-70d6-40d8-ace1-0e154b4fb35d');\n",
              "          const dataTable =\n",
              "            await google.colab.kernel.invokeFunction('convertToInteractive',\n",
              "                                                     [key], {});\n",
              "          if (!dataTable) return;\n",
              "\n",
              "          const docLinkHtml = 'Like what you see? Visit the ' +\n",
              "            '<a target=\"_blank\" href=https://colab.research.google.com/notebooks/data_table.ipynb>data table notebook</a>'\n",
              "            + ' to learn more about interactive tables.';\n",
              "          element.innerHTML = '';\n",
              "          dataTable['output_type'] = 'display_data';\n",
              "          await google.colab.output.renderOutput(dataTable, element);\n",
              "          const docLink = document.createElement('div');\n",
              "          docLink.innerHTML = docLinkHtml;\n",
              "          element.appendChild(docLink);\n",
              "        }\n",
              "      </script>\n",
              "    </div>\n",
              "  </div>\n",
              "  "
            ],
            "text/plain": [
              "  Agency    Agency Type Distribution Channel                     Product Name  \\\n",
              "0    CBH  Travel Agency              Offline               Comprehensive Plan   \n",
              "1    CBH  Travel Agency              Offline               Comprehensive Plan   \n",
              "2    CWT  Travel Agency               Online  Rental Vehicle Excess Insurance   \n",
              "3    CWT  Travel Agency               Online  Rental Vehicle Excess Insurance   \n",
              "4    CWT  Travel Agency               Online  Rental Vehicle Excess Insurance   \n",
              "\n",
              "  Claim  Duration Destination  Net Sales  Commision (in value) Gender  Age  \n",
              "0    No       186    MALAYSIA      -29.0                  9.57      F   81  \n",
              "1    No       186    MALAYSIA      -29.0                  9.57      F   71  \n",
              "2    No        65   AUSTRALIA      -49.5                 29.70    NaN   32  \n",
              "3    No        60   AUSTRALIA      -39.6                 23.76    NaN   32  \n",
              "4    No        79       ITALY      -19.8                 11.88    NaN   41  "
            ]
          },
          "execution_count": 6,
          "metadata": {},
          "output_type": "execute_result"
        }
      ],
      "source": [
        "travel_df.head()"
      ]
    },
    {
      "cell_type": "markdown",
      "metadata": {
        "id": "UXdeEy2O4xIG"
      },
      "source": [
        "### Auto EDA using Pandas Profiling"
      ]
    },
    {
      "cell_type": "code",
      "execution_count": null,
      "metadata": {
        "id": "wZ11PWBG4xIG",
        "outputId": "7ffd646c-bebf-4196-c6df-fe3373573788",
        "vscode": {
          "languageId": "python"
        }
      },
      "outputs": [
        {
          "name": "stderr",
          "output_type": "stream",
          "text": [
            "Summarize dataset: 100%|██████████| 41/41 [00:50<00:00,  1.23s/it, Completed]                                         \n",
            "Generate report structure: 100%|██████████| 1/1 [00:09<00:00,  9.23s/it]\n",
            "Render HTML: 100%|██████████| 1/1 [00:02<00:00,  2.50s/it]\n",
            "Export report to file: 100%|██████████| 1/1 [00:00<00:00, 168.37it/s]\n"
          ]
        }
      ],
      "source": [
        "prof = ProfileReport(travel_df)\n",
        "prof.to_file(output_file='travel_eda.html')"
      ]
    },
    {
      "cell_type": "markdown",
      "metadata": {
        "id": "pwggrRTV4xIG"
      },
      "source": [
        "### Feature Engineering"
      ]
    },
    {
      "cell_type": "code",
      "execution_count": 7,
      "metadata": {
        "id": "VO-NnnfN4xIH",
        "vscode": {
          "languageId": "python"
        }
      },
      "outputs": [],
      "source": [
        "def feature_engineering(df):\n",
        "    df.loc[df['Age']>100,'Age'] = np.NaN \n",
        "    df = pd.get_dummies(df,drop_first=True)\n",
        "    col = df.columns\n",
        "    imputer = KNNImputer(n_neighbors=2)\n",
        "    df = pd.DataFrame(imputer.fit_transform(df))\n",
        "    df.columns = col\n",
        "    return df\n",
        "\n",
        "cleaned_df = feature_engineering(travel_df)"
      ]
    },
    {
      "cell_type": "markdown",
      "metadata": {
        "id": "ovteZI114xIH"
      },
      "source": [
        "### Data Splitting"
      ]
    },
    {
      "cell_type": "code",
      "execution_count": 17,
      "metadata": {
        "id": "9eX_afY74xIH",
        "vscode": {
          "languageId": "python"
        }
      },
      "outputs": [],
      "source": [
        "def data_splitting(df,target_col,test_size):\n",
        "    global X, y, X_train, X_test, y_train, y_test\n",
        "    X = df.loc[:, df.columns != target_col]\n",
        "    y = df.loc[:, target_col]\n",
        "    X_train, X_test, y_train, y_test = train_test_split(X, y, test_size = test_size, random_state = 0)\n",
        "\n",
        "data_splitting(cleaned_df,'Claim_Yes',0.3)"
      ]
    },
    {
      "cell_type": "markdown",
      "metadata": {
        "id": "1xuJzogz4xIH"
      },
      "source": [
        "### Imbalanced Data: Claim vs. No Claim"
      ]
    },
    {
      "cell_type": "code",
      "execution_count": null,
      "metadata": {
        "colab": {
          "base_uri": "https://localhost:8080/"
        },
        "id": "hvk5dt1Y4xII",
        "outputId": "1857b811-9494-4dbf-a0ce-bcf0a31c49f7",
        "vscode": {
          "languageId": "python"
        }
      },
      "outputs": [
        {
          "data": {
            "text/plain": [
              "0.0    62399\n",
              "1.0      927\n",
              "Name: Claim_Yes, dtype: int64"
            ]
          },
          "execution_count": 16,
          "metadata": {},
          "output_type": "execute_result"
        }
      ],
      "source": [
        "# 0 = No Claim\n",
        "# 1 = Claim\n",
        "cleaned_df['Claim_Yes'].value_counts()"
      ]
    },
    {
      "cell_type": "markdown",
      "metadata": {
        "id": "dl8hjT7H4xII"
      },
      "source": [
        "Comparison of Oversampling & Undersampling Methods using XGBoost ROC-AUC"
      ]
    },
    {
      "cell_type": "code",
      "execution_count": null,
      "metadata": {
        "id": "4XLs-gdP8cGW",
        "vscode": {
          "languageId": "python"
        }
      },
      "outputs": [],
      "source": [
        "model = xgb.XGBRFClassifier(random_state=100)"
      ]
    },
    {
      "cell_type": "code",
      "execution_count": null,
      "metadata": {
        "colab": {
          "base_uri": "https://localhost:8080/"
        },
        "id": "Km_uJHxh8RoA",
        "outputId": "46d44e2f-2b8a-42fb-e747-b139b26264d7",
        "vscode": {
          "languageId": "python"
        }
      },
      "outputs": [
        {
          "name": "stdout",
          "output_type": "stream",
          "text": [
            "The XGB ROC-AUC Mean Score for  SMOTE(random_state=100)  is  0.9137785571469423\n",
            "The XGB ROC-AUC Mean Score for  BorderlineSMOTE(random_state=100)  is  0.9515687439601501\n",
            "The XGB ROC-AUC Mean Score for  SVMSMOTE(random_state=100)  is  0.9415471152057411\n"
          ]
        }
      ],
      "source": [
        "# some oversampling methods\n",
        "over_methods = [\n",
        "    SMOTE(random_state=100),\n",
        "    BorderlineSMOTE(random_state=100),\n",
        "    SVMSMOTE(random_state=100)\n",
        "]\n",
        "# cross validation (oversampling)\n",
        "for methods in over_methods:\n",
        "  X_train_res, y_train_res = methods.fit_resample(X_train, y_train.ravel())\n",
        "  score = cross_val_score(model, X_train_res, y_train_res, cv=5, scoring=\"roc_auc\", n_jobs=-1)\n",
        "  print(\"The XGB ROC-AUC Mean Score for \",methods,\" is \",np.mean(score))"
      ]
    },
    {
      "cell_type": "code",
      "execution_count": null,
      "metadata": {
        "colab": {
          "base_uri": "https://localhost:8080/"
        },
        "id": "jfmraNt5ENbX",
        "outputId": "1da9fa23-2c96-4fe2-f1ff-9797b1f49406",
        "vscode": {
          "languageId": "python"
        }
      },
      "outputs": [
        {
          "name": "stdout",
          "output_type": "stream",
          "text": [
            "The XGB ROC-AUC Mean Score for  RandomUnderSampler(random_state=100)  is  0.8783143306705398\n",
            "The XGB ROC-AUC Mean Score for  NearMiss()  is  0.8139634874525942\n",
            "The XGB ROC-AUC Mean Score for  EditedNearestNeighbours()  is  0.7767297528225076\n"
          ]
        }
      ],
      "source": [
        "# some undersampling methods\n",
        "under_methods = [\n",
        "    RandomUnderSampler(random_state=100),\n",
        "    NearMiss(),\n",
        "    EditedNearestNeighbours()\n",
        "]\n",
        "# cross validation (undersampling)\n",
        "for methods in under_methods:\n",
        "  X_train_res, y_train_res = methods.fit_resample(X_train, y_train.ravel())\n",
        "  score = cross_val_score(model, X_train_res, y_train_res, cv=5, scoring=\"roc_auc\", n_jobs=-1)\n",
        "  print(\"The XGB ROC-AUC Mean Score for \",methods,\" is \",np.mean(score))"
      ]
    },
    {
      "cell_type": "code",
      "execution_count": 9,
      "metadata": {
        "id": "haqRUwkJ4xII",
        "vscode": {
          "languageId": "python"
        }
      },
      "outputs": [],
      "source": [
        "# (Based on above examination)\n",
        "\n",
        "# Best oversampling\n",
        "bsm = BorderlineSMOTE(random_state=100)\n",
        "X_train_res_bsm, y_train_res_bsm = bsm.fit_resample(X_train, y_train.ravel())\n",
        "\n",
        "# Best undersampling\n",
        "rus = RandomUnderSampler(random_state=100)\n",
        "X_train_res_rus, y_train_res_rus = rus.fit_resample(X_train, y_train.ravel())"
      ]
    },
    {
      "cell_type": "markdown",
      "metadata": {
        "id": "X4IvwOI44xIJ"
      },
      "source": [
        "### Hyperparameter Tuning using Bayesian Optimization"
      ]
    },
    {
      "cell_type": "code",
      "execution_count": 10,
      "metadata": {
        "id": "LOWan2Ct4xIK",
        "vscode": {
          "languageId": "python"
        }
      },
      "outputs": [],
      "source": [
        "# Hyperparameter Space\n",
        "hps = {\n",
        "  'min_child_weight':(3, 20),\n",
        "  'gamma':(0, 10),\n",
        "  'subsample':(0.5, 1),\n",
        "  'colsample_bytree':(0.1, 1),\n",
        "  'max_depth': (2, 20),\n",
        "  'learning_rate': (0, 1)\n",
        "}\n",
        "\n",
        "def hyper_xgboost(max_depth, subsample, colsample_bytree,min_child_weight, gamma, learning_rate):\n",
        "    params = {\n",
        "    'objective': 'binary:logistic',\n",
        "    'eval_metric':'auc',\n",
        "    'nthread':-1\n",
        "     }\n",
        "    params['max_depth'] = int(round(max_depth))\n",
        "    params['subsample'] = max(min(subsample, 1), 0)\n",
        "    params['colsample_bytree'] = max(min(colsample_bytree, 1), 0)\n",
        "    params['min_child_weight'] = int(min_child_weight)\n",
        "    params['gamma'] = max(gamma, 0)\n",
        "    params['learning_rate'] = learning_rate\n",
        "    scores = xgb.cv(params, dtrain, num_boost_round=500,verbose_eval=False,   #XGBoost requires data to be transformed into DMatrix\n",
        "                    early_stopping_rounds=10, nfold=3)\n",
        "    return scores['test-auc-mean'].iloc[-1]"
      ]
    },
    {
      "cell_type": "code",
      "execution_count": null,
      "metadata": {
        "colab": {
          "base_uri": "https://localhost:8080/"
        },
        "id": "dYRF5WT-4xIK",
        "outputId": "49822da6-8771-4fb9-e165-9ed0a7c92a38",
        "vscode": {
          "languageId": "python"
        }
      },
      "outputs": [
        {
          "name": "stdout",
          "output_type": "stream",
          "text": [
            "|   iter    |  target   | colsam... |   gamma   | learni... | max_depth | min_ch... | subsample |\n",
            "-------------------------------------------------------------------------------------------------\n",
            "| \u001b[0m 1       \u001b[0m | \u001b[0m 0.9807  \u001b[0m | \u001b[0m 0.4753  \u001b[0m | \u001b[0m 7.203   \u001b[0m | \u001b[0m 0.000114\u001b[0m | \u001b[0m 7.442   \u001b[0m | \u001b[0m 5.495   \u001b[0m | \u001b[0m 0.5462  \u001b[0m |\n",
            "| \u001b[95m 2       \u001b[0m | \u001b[95m 0.9973  \u001b[0m | \u001b[95m 0.2676  \u001b[0m | \u001b[95m 3.456   \u001b[0m | \u001b[95m 0.3968  \u001b[0m | \u001b[95m 11.7    \u001b[0m | \u001b[95m 10.13   \u001b[0m | \u001b[95m 0.8426  \u001b[0m |\n",
            "| \u001b[0m 3       \u001b[0m | \u001b[0m 0.997   \u001b[0m | \u001b[0m 0.2908  \u001b[0m | \u001b[0m 3.604   \u001b[0m | \u001b[0m 0.8477  \u001b[0m | \u001b[0m 11.16   \u001b[0m | \u001b[0m 10.07   \u001b[0m | \u001b[0m 0.6585  \u001b[0m |\n",
            "| \u001b[0m 4       \u001b[0m | \u001b[0m 0.9967  \u001b[0m | \u001b[0m 0.137   \u001b[0m | \u001b[0m 0.04274 \u001b[0m | \u001b[0m 1.0     \u001b[0m | \u001b[0m 11.77   \u001b[0m | \u001b[0m 15.54   \u001b[0m | \u001b[0m 0.5     \u001b[0m |\n",
            "| \u001b[0m 5       \u001b[0m | \u001b[0m 0.9968  \u001b[0m | \u001b[0m 1.0     \u001b[0m | \u001b[0m 6.52    \u001b[0m | \u001b[0m 1.0     \u001b[0m | \u001b[0m 16.83   \u001b[0m | \u001b[0m 15.5    \u001b[0m | \u001b[0m 0.5     \u001b[0m |\n",
            "| \u001b[0m 6       \u001b[0m | \u001b[0m 0.9966  \u001b[0m | \u001b[0m 1.0     \u001b[0m | \u001b[0m 0.0     \u001b[0m | \u001b[0m 1.0     \u001b[0m | \u001b[0m 19.6    \u001b[0m | \u001b[0m 10.26   \u001b[0m | \u001b[0m 0.5     \u001b[0m |\n",
            "| \u001b[0m 7       \u001b[0m | \u001b[0m 0.9968  \u001b[0m | \u001b[0m 1.0     \u001b[0m | \u001b[0m 0.0     \u001b[0m | \u001b[0m 1.0     \u001b[0m | \u001b[0m 20.0    \u001b[0m | \u001b[0m 20.0    \u001b[0m | \u001b[0m 0.5253  \u001b[0m |\n",
            "=================================================================================================\n"
          ]
        }
      ],
      "source": [
        "# BorderlineSMOTE\n",
        "dtrain = xgb.DMatrix(X_train_res_bsm, y_train_res_bsm, feature_names=X_train_res_bsm.columns.values)\n",
        "optimizer = BayesianOptimization(hyper_xgboost, hps, random_state=1)\n",
        "optimizer.maximize(init_points=2, n_iter=5)"
      ]
    },
    {
      "cell_type": "code",
      "execution_count": null,
      "metadata": {
        "colab": {
          "base_uri": "https://localhost:8080/"
        },
        "id": "LllDAiYH4xIK",
        "outputId": "0de9c8ac-6949-4006-aae6-bfbd797c45d0",
        "vscode": {
          "languageId": "python"
        }
      },
      "outputs": [
        {
          "data": {
            "text/plain": [
              "{'colsample_bytree': 0.2676341902399038,\n",
              " 'gamma': 3.4556072704304777,\n",
              " 'learning_rate': 0.39676747423066994,\n",
              " 'max_depth': 11.698701212060424,\n",
              " 'min_child_weight': 10.126306744856013,\n",
              " 'subsample': 0.8426097501983798}"
            ]
          },
          "execution_count": 61,
          "metadata": {},
          "output_type": "execute_result"
        }
      ],
      "source": [
        "optimizer.max['params']"
      ]
    },
    {
      "cell_type": "code",
      "execution_count": null,
      "metadata": {
        "colab": {
          "base_uri": "https://localhost:8080/"
        },
        "id": "7o5bbTfG4xIL",
        "outputId": "88c8d10a-1bf9-4f09-8b35-cb0baf53f6cf",
        "vscode": {
          "languageId": "python"
        }
      },
      "outputs": [
        {
          "data": {
            "text/plain": [
              "XGBClassifier(colsample_bytree=0.2676341902399038, eval_metric='auc',\n",
              "              gamma=3.4556072704304777, learning_rate=0.39676747423066994,\n",
              "              max_depth=12, min_child_weight=10, n_jobs=-1, nthread=-1,\n",
              "              random_state=12345, subsample=0.8426097501983798)"
            ]
          },
          "execution_count": 66,
          "metadata": {},
          "output_type": "execute_result"
        }
      ],
      "source": [
        "# Based on the best parameter tuning above\n",
        "params = {\n",
        "    'colsample_bytree': 0.2676341902399038,\n",
        "    'gamma': 3.4556072704304777,\n",
        "    'learning_rate': 0.39676747423066994,\n",
        "    'max_depth': 12,\n",
        "    'min_child_weight': 10,\n",
        "    'subsample': 0.8426097501983798,\n",
        "    'objective': 'binary:logistic',\n",
        "    'eval_metric':'auc',\n",
        "    'n_jobs':-1\n",
        "}\n",
        "xgbr =  xgb.XGBClassifier(**params, random_state=12345, nthread=-1)\n",
        "xgbr.fit(X_train_res_bsm, y_train_res_bsm)"
      ]
    },
    {
      "cell_type": "code",
      "execution_count": null,
      "metadata": {
        "colab": {
          "base_uri": "https://localhost:8080/"
        },
        "id": "km8WYJ3-4xIL",
        "outputId": "b7a69bd2-609f-4e28-d352-83b934316599",
        "vscode": {
          "languageId": "python"
        }
      },
      "outputs": [
        {
          "name": "stdout",
          "output_type": "stream",
          "text": [
            "Test Accuracy score 0.9807874513106642\n",
            "ROC AUC Score 0.5324529549818647\n",
            "              precision    recall  f1-score   support\n",
            "\n",
            "         0.0       0.99      0.99      0.99     18748\n",
            "         1.0       0.12      0.07      0.09       250\n",
            "\n",
            "    accuracy                           0.98     18998\n",
            "   macro avg       0.55      0.53      0.54     18998\n",
            "weighted avg       0.98      0.98      0.98     18998\n",
            "\n"
          ]
        }
      ],
      "source": [
        "y_pred = xgbr.predict(X_test)\n",
        "testing_accuracy = accuracy_score(y_test, y_pred)\n",
        "roc_auc = roc_auc_score(y_test,y_pred)\n",
        "print(\"Test Accuracy score {0}\".format(testing_accuracy))\n",
        "print(\"ROC AUC Score {0}\".format(roc_auc))\n",
        "print(classification_report(y_test, y_pred))"
      ]
    },
    {
      "cell_type": "code",
      "execution_count": 11,
      "metadata": {
        "colab": {
          "base_uri": "https://localhost:8080/"
        },
        "id": "cdcVPO6cQaZl",
        "outputId": "83b2a249-35df-44e7-d535-6eb8b9f847fe",
        "vscode": {
          "languageId": "python"
        }
      },
      "outputs": [
        {
          "name": "stdout",
          "output_type": "stream",
          "text": [
            "|   iter    |  target   | colsam... |   gamma   | learni... | max_depth | min_ch... | subsample |\n",
            "-------------------------------------------------------------------------------------------------\n",
            "| \u001b[0m 1       \u001b[0m | \u001b[0m 0.813   \u001b[0m | \u001b[0m 0.4753  \u001b[0m | \u001b[0m 7.203   \u001b[0m | \u001b[0m 0.000114\u001b[0m | \u001b[0m 7.442   \u001b[0m | \u001b[0m 5.495   \u001b[0m | \u001b[0m 0.5462  \u001b[0m |\n",
            "| \u001b[0m 2       \u001b[0m | \u001b[0m 0.8033  \u001b[0m | \u001b[0m 0.2676  \u001b[0m | \u001b[0m 3.456   \u001b[0m | \u001b[0m 0.3968  \u001b[0m | \u001b[0m 11.7    \u001b[0m | \u001b[0m 10.13   \u001b[0m | \u001b[0m 0.8426  \u001b[0m |\n",
            "| \u001b[95m 3       \u001b[0m | \u001b[95m 0.8134  \u001b[0m | \u001b[95m 0.4054  \u001b[0m | \u001b[95m 7.817   \u001b[0m | \u001b[95m 0.1203  \u001b[0m | \u001b[95m 7.538   \u001b[0m | \u001b[95m 5.589   \u001b[0m | \u001b[95m 0.9949  \u001b[0m |\n",
            "| \u001b[0m 4       \u001b[0m | \u001b[0m 0.8019  \u001b[0m | \u001b[0m 0.9503  \u001b[0m | \u001b[0m 10.0    \u001b[0m | \u001b[0m 0.9178  \u001b[0m | \u001b[0m 2.175   \u001b[0m | \u001b[0m 3.0     \u001b[0m | \u001b[0m 1.0     \u001b[0m |\n",
            "| \u001b[0m 5       \u001b[0m | \u001b[0m 0.5     \u001b[0m | \u001b[0m 0.1     \u001b[0m | \u001b[0m 8.611   \u001b[0m | \u001b[0m 0.0     \u001b[0m | \u001b[0m 10.69   \u001b[0m | \u001b[0m 3.29    \u001b[0m | \u001b[0m 0.5     \u001b[0m |\n",
            "| \u001b[0m 6       \u001b[0m | \u001b[0m 0.8078  \u001b[0m | \u001b[0m 0.725   \u001b[0m | \u001b[0m 7.932   \u001b[0m | \u001b[0m 0.4388  \u001b[0m | \u001b[0m 4.237   \u001b[0m | \u001b[0m 6.484   \u001b[0m | \u001b[0m 1.0     \u001b[0m |\n",
            "| \u001b[0m 7       \u001b[0m | \u001b[0m 0.8088  \u001b[0m | \u001b[0m 0.4047  \u001b[0m | \u001b[0m 6.405   \u001b[0m | \u001b[0m 0.3202  \u001b[0m | \u001b[0m 7.343   \u001b[0m | \u001b[0m 9.396   \u001b[0m | \u001b[0m 1.0     \u001b[0m |\n",
            "=================================================================================================\n"
          ]
        }
      ],
      "source": [
        "# RandomUnderSampling\n",
        "dtrain = xgb.DMatrix(X_train_res_rus, y_train_res_rus, feature_names=X_train_res_rus.columns.values)\n",
        "optimizer = BayesianOptimization(hyper_xgboost, hps, random_state=1)\n",
        "optimizer.maximize(init_points=2, n_iter=5)"
      ]
    },
    {
      "cell_type": "code",
      "execution_count": 12,
      "metadata": {
        "colab": {
          "base_uri": "https://localhost:8080/"
        },
        "id": "RrHUyg5tUUuG",
        "outputId": "914e53ee-4ebd-47b1-9162-37cac4b69d14",
        "vscode": {
          "languageId": "python"
        }
      },
      "outputs": [
        {
          "data": {
            "text/plain": [
              "{'colsample_bytree': 0.40544442522369606,\n",
              " 'gamma': 7.817083262953675,\n",
              " 'learning_rate': 0.12026101657458521,\n",
              " 'max_depth': 7.5375584166706435,\n",
              " 'min_child_weight': 5.588844458037286,\n",
              " 'subsample': 0.9948819242832455}"
            ]
          },
          "execution_count": 12,
          "metadata": {},
          "output_type": "execute_result"
        }
      ],
      "source": [
        "optimizer.max['params']"
      ]
    },
    {
      "cell_type": "code",
      "execution_count": 13,
      "metadata": {
        "colab": {
          "base_uri": "https://localhost:8080/"
        },
        "id": "QBlkJKQMUXgh",
        "outputId": "2e7bf7d8-be0b-4544-cde1-4375a56a54d8",
        "vscode": {
          "languageId": "python"
        }
      },
      "outputs": [
        {
          "data": {
            "text/plain": [
              "XGBClassifier(colsample_bytree=0.40544442522369606, eval_metric='auc',\n",
              "              gamma=7.817083262953675, learning_rate=0.12026101657458521,\n",
              "              max_depth=8, min_child_weight=6, n_jobs=-1, nthread=-1,\n",
              "              random_state=12345, subsample=0.9948819242832455)"
            ]
          },
          "execution_count": 13,
          "metadata": {},
          "output_type": "execute_result"
        }
      ],
      "source": [
        "# Based on the best parameter tuning above\n",
        "params = {\n",
        "    'colsample_bytree': 0.40544442522369606,\n",
        "    'gamma': 7.817083262953675,\n",
        "    'learning_rate': 0.12026101657458521,\n",
        "    'max_depth': 8,\n",
        "    'min_child_weight': 6,\n",
        "    'subsample': 0.9948819242832455,\n",
        "    'objective': 'binary:logistic',\n",
        "    'eval_metric':'auc',\n",
        "    'n_jobs':-1\n",
        "}\n",
        "xgbr =  xgb.XGBClassifier(**params, random_state=12345, nthread=-1)\n",
        "xgbr.fit(X_train_res_rus, y_train_res_rus)"
      ]
    },
    {
      "cell_type": "code",
      "execution_count": 14,
      "metadata": {
        "colab": {
          "base_uri": "https://localhost:8080/"
        },
        "id": "kbSxNArGVGqm",
        "outputId": "c916c688-f358-4477-d4d4-841a6aefe39a",
        "vscode": {
          "languageId": "python"
        }
      },
      "outputs": [
        {
          "name": "stdout",
          "output_type": "stream",
          "text": [
            "Test Accuracy score 0.8275607958732498\n",
            "ROC AUC Score 0.7271376146788991\n",
            "              precision    recall  f1-score   support\n",
            "\n",
            "         0.0       0.99      0.83      0.90     18748\n",
            "         1.0       0.05      0.62      0.09       250\n",
            "\n",
            "    accuracy                           0.83     18998\n",
            "   macro avg       0.52      0.73      0.50     18998\n",
            "weighted avg       0.98      0.83      0.89     18998\n",
            "\n"
          ]
        }
      ],
      "source": [
        "y_pred = xgbr.predict(X_test)\n",
        "testing_accuracy = accuracy_score(y_test, y_pred)\n",
        "roc_auc = roc_auc_score(y_test,y_pred)\n",
        "print(\"Test Accuracy score {0}\".format(testing_accuracy))\n",
        "print(\"ROC AUC Score {0}\".format(roc_auc))\n",
        "print(classification_report(y_test, y_pred))"
      ]
    },
    {
      "cell_type": "code",
      "execution_count": 15,
      "metadata": {
        "colab": {
          "base_uri": "https://localhost:8080/"
        },
        "id": "u37mKsxM4xIM",
        "outputId": "5060206a-6cb9-49b0-df9c-37e2828972b4",
        "vscode": {
          "languageId": "python"
        }
      },
      "outputs": [
        {
          "name": "stdout",
          "output_type": "stream",
          "text": [
            "[[15566  3182]\n",
            " [   94   156]]\n"
          ]
        }
      ],
      "source": [
        "print(confusion_matrix(y_test,y_pred))"
      ]
    },
    {
      "cell_type": "code",
      "execution_count": 16,
      "metadata": {
        "colab": {
          "base_uri": "https://localhost:8080/",
          "height": 295
        },
        "id": "fuq9cW9o4xIM",
        "outputId": "9068b20d-9ccd-4d0b-f659-6dbbbaafdbe9",
        "vscode": {
          "languageId": "python"
        }
      },
      "outputs": [
        {
          "data": {
            "image/png": "[encoded data removed]",
            "text/plain": [
              "<Figure size 432x288 with 1 Axes>"
            ]
          },
          "metadata": {
            "needs_background": "light"
          },
          "output_type": "display_data"
        }
      ],
      "source": [
        "# XGBoost Feature Importance\n",
        "plot_importance(xgbr)\n",
        "plt.show()"
      ]
    },
    {
      "cell_type": "code",
      "execution_count": 19,
      "metadata": {
        "colab": {
          "base_uri": "https://localhost:8080/",
          "height": 693
        },
        "id": "MQNe2iaoi_Pa",
        "outputId": "e53ccb77-b116-4514-c372-1825bc10e716",
        "vscode": {
          "languageId": "python"
        }
      },
      "outputs": [
        {
          "data": {
            "image/png": "[encoded data removed]",
            "text/plain": [
              "<Figure size 576x684 with 2 Axes>"
            ]
          },
          "metadata": {
            "needs_background": "light"
          },
          "output_type": "display_data"
        }
      ],
      "source": [
        "shap_values = shap.TreeExplainer(xgbr).shap_values(X)\n",
        "shap.summary_plot(shap_values, X)"
      ]
    }
  ],
  "metadata": {
    "colab": {
      "name": "travel_insurance_claims_prediction.ipynb",
      "provenance": []
    },
    "kernelspec": {
      "display_name": "masa-kernel",
      "language": "python",
      "name": "masa-kernel"
    },
    "orig_nbformat": 4
  },
  "nbformat": 4,
  "nbformat_minor": 0
}
