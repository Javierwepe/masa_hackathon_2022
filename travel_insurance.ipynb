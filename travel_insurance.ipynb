{
 "cells": [
  {
   "cell_type": "markdown",
   "metadata": {},
   "source": [
    "# Travel Insurance Claims Prediction"
   ]
  },
  {
   "cell_type": "markdown",
   "metadata": {},
   "source": [
    "Change log\n",
    "| Date     | Name | Changes | To-Do | \n",
    "| -------- | -----| --------|-------|\n",
    "| 2022/08/11 | Matthew | FE & Modelling | 1. Reproducible code (use functions) <br> 2. Focus on FE & imbalance rather than modelling <br> 3. File structure (separate notebook and data) "
   ]
  },
  {
   "cell_type": "code",
   "execution_count": 108,
   "metadata": {},
   "outputs": [],
   "source": [
    "import pandas as pd\n",
    "import numpy as np\n",
    "import matplotlib.pyplot as plt\n",
    "import autokeras as ak\n",
    "\n",
    "from sklearn.impute import KNNImputer\n",
    "from sklearn.model_selection import train_test_split, RepeatedStratifiedKFold, cross_val_score\n",
    "from sklearn.metrics import accuracy_score, confusion_matrix, classification_report, roc_auc_score\n",
    "from sklearn.tree import DecisionTreeClassifier\n",
    "from sklearn.ensemble import RandomForestClassifier\n",
    "from autosklearn.classification import AutoSklearnClassifier\n",
    "from imblearn.over_sampling import *\n",
    "from imblearn.combine import SMOTEENN, SMOTETomek\n",
    "from imblearn.ensemble import BalancedBaggingClassifier, RUSBoostClassifier, BalancedRandomForestClassifier\n",
    "from pandas_profiling import ProfileReport"
   ]
  },
  {
   "cell_type": "markdown",
   "metadata": {},
   "source": [
    "### Load & Quick Examination of the Dataset"
   ]
  },
  {
   "cell_type": "code",
   "execution_count": 34,
   "metadata": {},
   "outputs": [],
   "source": [
    "travel_df = pd.read_csv('travel_insurance_dataset.csv')"
   ]
  },
  {
   "cell_type": "code",
   "execution_count": 35,
   "metadata": {},
   "outputs": [
    {
     "data": {
      "text/html": [
       "<div>\n",
       "<style scoped>\n",
       "    .dataframe tbody tr th:only-of-type {\n",
       "        vertical-align: middle;\n",
       "    }\n",
       "\n",
       "    .dataframe tbody tr th {\n",
       "        vertical-align: top;\n",
       "    }\n",
       "\n",
       "    .dataframe thead th {\n",
       "        text-align: right;\n",
       "    }\n",
       "</style>\n",
       "<table border=\"1\" class=\"dataframe\">\n",
       "  <thead>\n",
       "    <tr style=\"text-align: right;\">\n",
       "      <th></th>\n",
       "      <th>Agency</th>\n",
       "      <th>Agency Type</th>\n",
       "      <th>Distribution Channel</th>\n",
       "      <th>Product Name</th>\n",
       "      <th>Claim</th>\n",
       "      <th>Duration</th>\n",
       "      <th>Destination</th>\n",
       "      <th>Net Sales</th>\n",
       "      <th>Commision (in value)</th>\n",
       "      <th>Gender</th>\n",
       "      <th>Age</th>\n",
       "    </tr>\n",
       "  </thead>\n",
       "  <tbody>\n",
       "    <tr>\n",
       "      <th>0</th>\n",
       "      <td>CBH</td>\n",
       "      <td>Travel Agency</td>\n",
       "      <td>Offline</td>\n",
       "      <td>Comprehensive Plan</td>\n",
       "      <td>No</td>\n",
       "      <td>186</td>\n",
       "      <td>MALAYSIA</td>\n",
       "      <td>-29.0</td>\n",
       "      <td>9.57</td>\n",
       "      <td>F</td>\n",
       "      <td>81</td>\n",
       "    </tr>\n",
       "    <tr>\n",
       "      <th>1</th>\n",
       "      <td>CBH</td>\n",
       "      <td>Travel Agency</td>\n",
       "      <td>Offline</td>\n",
       "      <td>Comprehensive Plan</td>\n",
       "      <td>No</td>\n",
       "      <td>186</td>\n",
       "      <td>MALAYSIA</td>\n",
       "      <td>-29.0</td>\n",
       "      <td>9.57</td>\n",
       "      <td>F</td>\n",
       "      <td>71</td>\n",
       "    </tr>\n",
       "    <tr>\n",
       "      <th>2</th>\n",
       "      <td>CWT</td>\n",
       "      <td>Travel Agency</td>\n",
       "      <td>Online</td>\n",
       "      <td>Rental Vehicle Excess Insurance</td>\n",
       "      <td>No</td>\n",
       "      <td>65</td>\n",
       "      <td>AUSTRALIA</td>\n",
       "      <td>-49.5</td>\n",
       "      <td>29.70</td>\n",
       "      <td>NaN</td>\n",
       "      <td>32</td>\n",
       "    </tr>\n",
       "    <tr>\n",
       "      <th>3</th>\n",
       "      <td>CWT</td>\n",
       "      <td>Travel Agency</td>\n",
       "      <td>Online</td>\n",
       "      <td>Rental Vehicle Excess Insurance</td>\n",
       "      <td>No</td>\n",
       "      <td>60</td>\n",
       "      <td>AUSTRALIA</td>\n",
       "      <td>-39.6</td>\n",
       "      <td>23.76</td>\n",
       "      <td>NaN</td>\n",
       "      <td>32</td>\n",
       "    </tr>\n",
       "    <tr>\n",
       "      <th>4</th>\n",
       "      <td>CWT</td>\n",
       "      <td>Travel Agency</td>\n",
       "      <td>Online</td>\n",
       "      <td>Rental Vehicle Excess Insurance</td>\n",
       "      <td>No</td>\n",
       "      <td>79</td>\n",
       "      <td>ITALY</td>\n",
       "      <td>-19.8</td>\n",
       "      <td>11.88</td>\n",
       "      <td>NaN</td>\n",
       "      <td>41</td>\n",
       "    </tr>\n",
       "  </tbody>\n",
       "</table>\n",
       "</div>"
      ],
      "text/plain": [
       "  Agency    Agency Type Distribution Channel                     Product Name  \\\n",
       "0    CBH  Travel Agency              Offline               Comprehensive Plan   \n",
       "1    CBH  Travel Agency              Offline               Comprehensive Plan   \n",
       "2    CWT  Travel Agency               Online  Rental Vehicle Excess Insurance   \n",
       "3    CWT  Travel Agency               Online  Rental Vehicle Excess Insurance   \n",
       "4    CWT  Travel Agency               Online  Rental Vehicle Excess Insurance   \n",
       "\n",
       "  Claim  Duration Destination  Net Sales  Commision (in value) Gender  Age  \n",
       "0    No       186    MALAYSIA      -29.0                  9.57      F   81  \n",
       "1    No       186    MALAYSIA      -29.0                  9.57      F   71  \n",
       "2    No        65   AUSTRALIA      -49.5                 29.70    NaN   32  \n",
       "3    No        60   AUSTRALIA      -39.6                 23.76    NaN   32  \n",
       "4    No        79       ITALY      -19.8                 11.88    NaN   41  "
      ]
     },
     "execution_count": 35,
     "metadata": {},
     "output_type": "execute_result"
    }
   ],
   "source": [
    "travel_df.head()\n",
    "# 63326 rows"
   ]
  },
  {
   "cell_type": "markdown",
   "metadata": {},
   "source": [
    "### EDA using Pandas Profiling"
   ]
  },
  {
   "cell_type": "code",
   "execution_count": 55,
   "metadata": {},
   "outputs": [
    {
     "name": "stderr",
     "output_type": "stream",
     "text": [
      "Summarize dataset: 100%|██████████| 41/41 [00:50<00:00,  1.23s/it, Completed]                                         \n",
      "Generate report structure: 100%|██████████| 1/1 [00:09<00:00,  9.23s/it]\n",
      "Render HTML: 100%|██████████| 1/1 [00:02<00:00,  2.50s/it]\n",
      "Export report to file: 100%|██████████| 1/1 [00:00<00:00, 168.37it/s]\n"
     ]
    }
   ],
   "source": [
    "prof = ProfileReport(travel_df)\n",
    "prof.to_file(output_file='travel_eda.html')"
   ]
  },
  {
   "cell_type": "markdown",
   "metadata": {},
   "source": [
    "### Feature Engineering"
   ]
  },
  {
   "cell_type": "code",
   "execution_count": 47,
   "metadata": {},
   "outputs": [],
   "source": [
    "# add to remove duplicated data\n",
    "def feature_engineering(df):\n",
    "        df.loc[df['Age']>100,'Age'] = np.NaN \n",
    "        df = pd.get_dummies(df,drop_first=True)\n",
    "        col = df.columns\n",
    "        imputer = KNNImputer(n_neighbors=2)\n",
    "        df = pd.DataFrame(imputer.fit_transform(df))\n",
    "        df.columns = col\n",
    "    return df\n",
    "\n",
    "cleaned_df = feature_engineering(travel_df)"
   ]
  },
  {
   "cell_type": "markdown",
   "metadata": {},
   "source": [
    "### Data Splitting"
   ]
  },
  {
   "cell_type": "code",
   "execution_count": 63,
   "metadata": {},
   "outputs": [],
   "source": [
    "def data_splitting(df,target_col,test_size):\n",
    "    global X_train, X_test, y_train, y_test\n",
    "    X = df.loc[:, df.columns != target_col]\n",
    "    y = df.loc[:, target_col]\n",
    "    X_train, X_test, y_train, y_test = train_test_split(X, y, test_size = test_size, random_state = 0)\n",
    "\n",
    "data_splitting(cleaned_df,'Claim_Yes',0.3)"
   ]
  },
  {
   "cell_type": "markdown",
   "metadata": {},
   "source": [
    "### Imbalanced Data"
   ]
  },
  {
   "cell_type": "code",
   "execution_count": 64,
   "metadata": {},
   "outputs": [
    {
     "data": {
      "text/plain": [
       "0.0    62409\n",
       "1.0      917\n",
       "Name: Claim_Yes, dtype: int64"
      ]
     },
     "execution_count": 64,
     "metadata": {},
     "output_type": "execute_result"
    }
   ],
   "source": [
    "cleaned_df['Claim_Yes'].value_counts()"
   ]
  },
  {
   "cell_type": "markdown",
   "metadata": {},
   "source": [
    "SMOTE"
   ]
  },
  {
   "cell_type": "code",
   "execution_count": 98,
   "metadata": {},
   "outputs": [],
   "source": [
    "sm = SMOTE(random_state = 1)\n",
    "X_train_res, y_train_res = sm.fit_resample(X_train, y_train.ravel())"
   ]
  },
  {
   "cell_type": "markdown",
   "metadata": {},
   "source": [
    "Modelling"
   ]
  },
  {
   "cell_type": "code",
   "execution_count": null,
   "metadata": {},
   "outputs": [],
   "source": [
    "import xgboost as xgb\n",
    "# fit model to training data\n",
    "model = xgb.XGBRFClassifier(n_estimators=1000, random_state=100)\n",
    "# cross validation score\n",
    "score = cross_val_score(model, X_train_res, y_train_res, cv=2, scoring=\"roc_auc\", n_jobs=-1)\n",
    "print(\"XGB ROC-AUC Mean Score: \", np.mean(score))"
   ]
  },
  {
   "cell_type": "code",
   "execution_count": 111,
   "metadata": {},
   "outputs": [],
   "source": [
    "from bayes_opt import BayesianOptimization\n",
    "import warnings\n",
    "warnings.filterwarnings('ignore')"
   ]
  },
  {
   "cell_type": "code",
   "execution_count": 115,
   "metadata": {},
   "outputs": [],
   "source": [
    "# Convert to special data format\n",
    "# https://xgboost.readthedocs.io/en/latest/python/python_intro.html\n",
    "dtrain = xgb.DMatrix(X_train_res, y_train_res, feature_names=X_train.columns.values)\n",
    "\n",
    "def hyp_xgb(max_depth, subsample, colsample_bytree,min_child_weight, gamma, learning_rate):\n",
    "    params = {\n",
    "    'objective': 'binary:logistic',\n",
    "    'eval_metric':'auc',\n",
    "    'nthread':-1\n",
    "     }\n",
    "    \n",
    "    params['max_depth'] = int(round(max_depth))\n",
    "    params['subsample'] = max(min(subsample, 1), 0)\n",
    "    params['colsample_bytree'] = max(min(colsample_bytree, 1), 0)\n",
    "    params['min_child_weight'] = int(min_child_weight)\n",
    "    params['gamma'] = max(gamma, 0)\n",
    "    params['learning_rate'] = learning_rate\n",
    "    scores = xgb.cv(params, dtrain, num_boost_round=500,verbose_eval=False, \n",
    "                    early_stopping_rounds=10, nfold=3)\n",
    "    return scores['test-auc-mean'].iloc[-1]"
   ]
  },
  {
   "cell_type": "code",
   "execution_count": 116,
   "metadata": {},
   "outputs": [],
   "source": [
    "pds ={\n",
    "  'min_child_weight':(3, 20),\n",
    "  'gamma':(0, 10),\n",
    "  'subsample':(0.5, 1),\n",
    "  'colsample_bytree':(0.1, 1),\n",
    "  'max_depth': (2, 15),\n",
    "  'learning_rate': (0.01, 0.5)\n",
    "}"
   ]
  },
  {
   "cell_type": "code",
   "execution_count": 117,
   "metadata": {},
   "outputs": [
    {
     "name": "stdout",
     "output_type": "stream",
     "text": [
      "|   iter    |  target   | colsam... |   gamma   | learni... | max_depth | min_ch... | subsample |\n",
      "-------------------------------------------------------------------------------------------------\n",
      "| \u001b[0m 1       \u001b[0m | \u001b[0m 0.9848  \u001b[0m | \u001b[0m 0.4753  \u001b[0m | \u001b[0m 7.203   \u001b[0m | \u001b[0m 0.01006 \u001b[0m | \u001b[0m 5.93    \u001b[0m | \u001b[0m 5.495   \u001b[0m | \u001b[0m 0.5462  \u001b[0m |\n",
      "| \u001b[95m 2       \u001b[0m | \u001b[95m 0.9976  \u001b[0m | \u001b[95m 0.2676  \u001b[0m | \u001b[95m 3.456   \u001b[0m | \u001b[95m 0.2044  \u001b[0m | \u001b[95m 9.005   \u001b[0m | \u001b[95m 10.13   \u001b[0m | \u001b[95m 0.8426  \u001b[0m |\n",
      "| \u001b[0m 3       \u001b[0m | \u001b[0m 0.9967  \u001b[0m | \u001b[0m 0.284   \u001b[0m | \u001b[0m 8.781   \u001b[0m | \u001b[0m 0.02342 \u001b[0m | \u001b[0m 10.72   \u001b[0m | \u001b[0m 10.09   \u001b[0m | \u001b[0m 0.7793  \u001b[0m |\n",
      "| \u001b[0m 4       \u001b[0m | \u001b[0m 0.9976  \u001b[0m | \u001b[0m 0.2263  \u001b[0m | \u001b[0m 1.981   \u001b[0m | \u001b[0m 0.4024  \u001b[0m | \u001b[0m 14.59   \u001b[0m | \u001b[0m 8.328   \u001b[0m | \u001b[0m 0.8462  \u001b[0m |\n"
     ]
    },
    {
     "ename": "TypeError",
     "evalue": "'float' object is not subscriptable",
     "output_type": "error",
     "traceback": [
      "\u001b[0;31m---------------------------------------------------------------------------\u001b[0m",
      "\u001b[0;31mStopIteration\u001b[0m                             Traceback (most recent call last)",
      "File \u001b[0;32m~/masa_hackathon_venv/lib/python3.8/site-packages/bayes_opt/bayesian_optimization.py:179\u001b[0m, in \u001b[0;36mBayesianOptimization.maximize\u001b[0;34m(self, init_points, n_iter, acq, kappa, kappa_decay, kappa_decay_delay, xi, **gp_params)\u001b[0m\n\u001b[1;32m    178\u001b[0m \u001b[39mtry\u001b[39;00m:\n\u001b[0;32m--> 179\u001b[0m     x_probe \u001b[39m=\u001b[39m \u001b[39mnext\u001b[39;49m(\u001b[39mself\u001b[39;49m\u001b[39m.\u001b[39;49m_queue)\n\u001b[1;32m    180\u001b[0m \u001b[39mexcept\u001b[39;00m \u001b[39mStopIteration\u001b[39;00m:\n",
      "File \u001b[0;32m~/masa_hackathon_venv/lib/python3.8/site-packages/bayes_opt/bayesian_optimization.py:25\u001b[0m, in \u001b[0;36mQueue.__next__\u001b[0;34m(self)\u001b[0m\n\u001b[1;32m     24\u001b[0m \u001b[39mif\u001b[39;00m \u001b[39mself\u001b[39m\u001b[39m.\u001b[39mempty:\n\u001b[0;32m---> 25\u001b[0m     \u001b[39mraise\u001b[39;00m \u001b[39mStopIteration\u001b[39;00m(\u001b[39m\"\u001b[39m\u001b[39mQueue is empty, no more objects to retrieve.\u001b[39m\u001b[39m\"\u001b[39m)\n\u001b[1;32m     26\u001b[0m obj \u001b[39m=\u001b[39m \u001b[39mself\u001b[39m\u001b[39m.\u001b[39m_queue[\u001b[39m0\u001b[39m]\n",
      "\u001b[0;31mStopIteration\u001b[0m: Queue is empty, no more objects to retrieve.",
      "\nDuring handling of the above exception, another exception occurred:\n",
      "\u001b[0;31mTypeError\u001b[0m                                 Traceback (most recent call last)",
      "\u001b[1;32m/home/matthewfarant123/masa_hackathon_2022/masa_hackathon_2022/travel_insurance.ipynb Cell 22\u001b[0m in \u001b[0;36m<cell line: 2>\u001b[0;34m()\u001b[0m\n\u001b[1;32m      <a href='vscode-notebook-cell://wsl%2Bubuntu/home/matthewfarant123/masa_hackathon_2022/masa_hackathon_2022/travel_insurance.ipynb#X62sdnNjb2RlLXJlbW90ZQ%3D%3D?line=0'>1</a>\u001b[0m optimizer \u001b[39m=\u001b[39m BayesianOptimization(hyp_xgb, pds, random_state\u001b[39m=\u001b[39m\u001b[39m1\u001b[39m)\n\u001b[0;32m----> <a href='vscode-notebook-cell://wsl%2Bubuntu/home/matthewfarant123/masa_hackathon_2022/masa_hackathon_2022/travel_insurance.ipynb#X62sdnNjb2RlLXJlbW90ZQ%3D%3D?line=1'>2</a>\u001b[0m optimizer\u001b[39m.\u001b[39;49mmaximize(init_points\u001b[39m=\u001b[39;49m\u001b[39m4\u001b[39;49m, n_iter\u001b[39m=\u001b[39;49m\u001b[39m10\u001b[39;49m)\n",
      "File \u001b[0;32m~/masa_hackathon_venv/lib/python3.8/site-packages/bayes_opt/bayesian_optimization.py:182\u001b[0m, in \u001b[0;36mBayesianOptimization.maximize\u001b[0;34m(self, init_points, n_iter, acq, kappa, kappa_decay, kappa_decay_delay, xi, **gp_params)\u001b[0m\n\u001b[1;32m    180\u001b[0m \u001b[39mexcept\u001b[39;00m \u001b[39mStopIteration\u001b[39;00m:\n\u001b[1;32m    181\u001b[0m     util\u001b[39m.\u001b[39mupdate_params()\n\u001b[0;32m--> 182\u001b[0m     x_probe \u001b[39m=\u001b[39m \u001b[39mself\u001b[39;49m\u001b[39m.\u001b[39;49msuggest(util)\n\u001b[1;32m    183\u001b[0m     iteration \u001b[39m+\u001b[39m\u001b[39m=\u001b[39m \u001b[39m1\u001b[39m\n\u001b[1;32m    185\u001b[0m \u001b[39mself\u001b[39m\u001b[39m.\u001b[39mprobe(x_probe, lazy\u001b[39m=\u001b[39m\u001b[39mFalse\u001b[39;00m)\n",
      "File \u001b[0;32m~/masa_hackathon_venv/lib/python3.8/site-packages/bayes_opt/bayesian_optimization.py:131\u001b[0m, in \u001b[0;36mBayesianOptimization.suggest\u001b[0;34m(self, utility_function)\u001b[0m\n\u001b[1;32m    128\u001b[0m     \u001b[39mself\u001b[39m\u001b[39m.\u001b[39m_gp\u001b[39m.\u001b[39mfit(\u001b[39mself\u001b[39m\u001b[39m.\u001b[39m_space\u001b[39m.\u001b[39mparams, \u001b[39mself\u001b[39m\u001b[39m.\u001b[39m_space\u001b[39m.\u001b[39mtarget)\n\u001b[1;32m    130\u001b[0m \u001b[39m# Finding argmax of the acquisition function.\u001b[39;00m\n\u001b[0;32m--> 131\u001b[0m suggestion \u001b[39m=\u001b[39m acq_max(\n\u001b[1;32m    132\u001b[0m     ac\u001b[39m=\u001b[39;49mutility_function\u001b[39m.\u001b[39;49mutility,\n\u001b[1;32m    133\u001b[0m     gp\u001b[39m=\u001b[39;49m\u001b[39mself\u001b[39;49m\u001b[39m.\u001b[39;49m_gp,\n\u001b[1;32m    134\u001b[0m     y_max\u001b[39m=\u001b[39;49m\u001b[39mself\u001b[39;49m\u001b[39m.\u001b[39;49m_space\u001b[39m.\u001b[39;49mtarget\u001b[39m.\u001b[39;49mmax(),\n\u001b[1;32m    135\u001b[0m     bounds\u001b[39m=\u001b[39;49m\u001b[39mself\u001b[39;49m\u001b[39m.\u001b[39;49m_space\u001b[39m.\u001b[39;49mbounds,\n\u001b[1;32m    136\u001b[0m     random_state\u001b[39m=\u001b[39;49m\u001b[39mself\u001b[39;49m\u001b[39m.\u001b[39;49m_random_state\n\u001b[1;32m    137\u001b[0m )\n\u001b[1;32m    139\u001b[0m \u001b[39mreturn\u001b[39;00m \u001b[39mself\u001b[39m\u001b[39m.\u001b[39m_space\u001b[39m.\u001b[39marray_to_params(suggestion)\n",
      "File \u001b[0;32m~/masa_hackathon_venv/lib/python3.8/site-packages/bayes_opt/util.py:65\u001b[0m, in \u001b[0;36macq_max\u001b[0;34m(ac, gp, y_max, bounds, random_state, n_warmup, n_iter)\u001b[0m\n\u001b[1;32m     62\u001b[0m     \u001b[39mcontinue\u001b[39;00m\n\u001b[1;32m     64\u001b[0m \u001b[39m# Store it if better than previous minimum(maximum).\u001b[39;00m\n\u001b[0;32m---> 65\u001b[0m \u001b[39mif\u001b[39;00m max_acq \u001b[39mis\u001b[39;00m \u001b[39mNone\u001b[39;00m \u001b[39mor\u001b[39;00m \u001b[39m-\u001b[39mres\u001b[39m.\u001b[39;49mfun[\u001b[39m0\u001b[39;49m] \u001b[39m>\u001b[39m\u001b[39m=\u001b[39m max_acq:\n\u001b[1;32m     66\u001b[0m     x_max \u001b[39m=\u001b[39m res\u001b[39m.\u001b[39mx\n\u001b[1;32m     67\u001b[0m     max_acq \u001b[39m=\u001b[39m \u001b[39m-\u001b[39mres\u001b[39m.\u001b[39mfun[\u001b[39m0\u001b[39m]\n",
      "\u001b[0;31mTypeError\u001b[0m: 'float' object is not subscriptable"
     ]
    }
   ],
   "source": [
    "optimizer = BayesianOptimization(hyp_xgb, pds, random_state=1)\n",
    "optimizer.maximize(init_points=4, n_iter=10)"
   ]
  },
  {
   "cell_type": "code",
   "execution_count": 118,
   "metadata": {},
   "outputs": [
    {
     "data": {
      "text/plain": [
       "{'colsample_bytree': 0.2676341902399038,\n",
       " 'gamma': 3.4556072704304777,\n",
       " 'learning_rate': 0.20441606237302828,\n",
       " 'max_depth': 9.00461754204364,\n",
       " 'min_child_weight': 10.126306744856013,\n",
       " 'subsample': 0.8426097501983798}"
      ]
     },
     "execution_count": 118,
     "metadata": {},
     "output_type": "execute_result"
    }
   ],
   "source": [
    "optimizer.max['params']"
   ]
  },
  {
   "cell_type": "code",
   "execution_count": 119,
   "metadata": {},
   "outputs": [],
   "source": [
    "# Copied from above\n",
    "# Some params need to be an integer\n",
    "params = {\n",
    "    'colsample_bytree': 0.2676341902399038,\n",
    "    'gamma': 3.4556072704304777,\n",
    "    'learning_rate': 0.20441606237302828,\n",
    "    'max_depth': 9,\n",
    "    'min_child_weight': 10,\n",
    "    'subsample': 0.8426097501983798,\n",
    "    'objective': 'binary:logistic',\n",
    "    'eval_metric':'auc',\n",
    "    'n_jobs':-1\n",
    "}"
   ]
  },
  {
   "cell_type": "code",
   "execution_count": 120,
   "metadata": {},
   "outputs": [
    {
     "data": {
      "text/html": [
       "<style>#sk-container-id-3 {color: black;background-color: white;}#sk-container-id-3 pre{padding: 0;}#sk-container-id-3 div.sk-toggleable {background-color: white;}#sk-container-id-3 label.sk-toggleable__label {cursor: pointer;display: block;width: 100%;margin-bottom: 0;padding: 0.3em;box-sizing: border-box;text-align: center;}#sk-container-id-3 label.sk-toggleable__label-arrow:before {content: \"▸\";float: left;margin-right: 0.25em;color: #696969;}#sk-container-id-3 label.sk-toggleable__label-arrow:hover:before {color: black;}#sk-container-id-3 div.sk-estimator:hover label.sk-toggleable__label-arrow:before {color: black;}#sk-container-id-3 div.sk-toggleable__content {max-height: 0;max-width: 0;overflow: hidden;text-align: left;background-color: #f0f8ff;}#sk-container-id-3 div.sk-toggleable__content pre {margin: 0.2em;color: black;border-radius: 0.25em;background-color: #f0f8ff;}#sk-container-id-3 input.sk-toggleable__control:checked~div.sk-toggleable__content {max-height: 200px;max-width: 100%;overflow: auto;}#sk-container-id-3 input.sk-toggleable__control:checked~label.sk-toggleable__label-arrow:before {content: \"▾\";}#sk-container-id-3 div.sk-estimator input.sk-toggleable__control:checked~label.sk-toggleable__label {background-color: #d4ebff;}#sk-container-id-3 div.sk-label input.sk-toggleable__control:checked~label.sk-toggleable__label {background-color: #d4ebff;}#sk-container-id-3 input.sk-hidden--visually {border: 0;clip: rect(1px 1px 1px 1px);clip: rect(1px, 1px, 1px, 1px);height: 1px;margin: -1px;overflow: hidden;padding: 0;position: absolute;width: 1px;}#sk-container-id-3 div.sk-estimator {font-family: monospace;background-color: #f0f8ff;border: 1px dotted black;border-radius: 0.25em;box-sizing: border-box;margin-bottom: 0.5em;}#sk-container-id-3 div.sk-estimator:hover {background-color: #d4ebff;}#sk-container-id-3 div.sk-parallel-item::after {content: \"\";width: 100%;border-bottom: 1px solid gray;flex-grow: 1;}#sk-container-id-3 div.sk-label:hover label.sk-toggleable__label {background-color: #d4ebff;}#sk-container-id-3 div.sk-serial::before {content: \"\";position: absolute;border-left: 1px solid gray;box-sizing: border-box;top: 0;bottom: 0;left: 50%;z-index: 0;}#sk-container-id-3 div.sk-serial {display: flex;flex-direction: column;align-items: center;background-color: white;padding-right: 0.2em;padding-left: 0.2em;position: relative;}#sk-container-id-3 div.sk-item {position: relative;z-index: 1;}#sk-container-id-3 div.sk-parallel {display: flex;align-items: stretch;justify-content: center;background-color: white;position: relative;}#sk-container-id-3 div.sk-item::before, #sk-container-id-3 div.sk-parallel-item::before {content: \"\";position: absolute;border-left: 1px solid gray;box-sizing: border-box;top: 0;bottom: 0;left: 50%;z-index: -1;}#sk-container-id-3 div.sk-parallel-item {display: flex;flex-direction: column;z-index: 1;position: relative;background-color: white;}#sk-container-id-3 div.sk-parallel-item:first-child::after {align-self: flex-end;width: 50%;}#sk-container-id-3 div.sk-parallel-item:last-child::after {align-self: flex-start;width: 50%;}#sk-container-id-3 div.sk-parallel-item:only-child::after {width: 0;}#sk-container-id-3 div.sk-dashed-wrapped {border: 1px dashed gray;margin: 0 0.4em 0.5em 0.4em;box-sizing: border-box;padding-bottom: 0.4em;background-color: white;}#sk-container-id-3 div.sk-label label {font-family: monospace;font-weight: bold;display: inline-block;line-height: 1.2em;}#sk-container-id-3 div.sk-label-container {text-align: center;}#sk-container-id-3 div.sk-container {/* jupyter's `normalize.less` sets `[hidden] { display: none; }` but bootstrap.min.css set `[hidden] { display: none !important; }` so we also need the `!important` here to be able to override the default hidden behavior on the sphinx rendered scikit-learn.org. See: https://github.com/scikit-learn/scikit-learn/issues/21755 */display: inline-block !important;position: relative;}#sk-container-id-3 div.sk-text-repr-fallback {display: none;}</style><div id=\"sk-container-id-3\" class=\"sk-top-container\"><div class=\"sk-text-repr-fallback\"><pre>XGBClassifier(base_score=0.5, booster=&#x27;gbtree&#x27;, callbacks=None,\n",
       "              colsample_bylevel=1, colsample_bynode=1,\n",
       "              colsample_bytree=0.2676341902399038, early_stopping_rounds=None,\n",
       "              enable_categorical=False, eval_metric=&#x27;auc&#x27;,\n",
       "              gamma=3.4556072704304777, gpu_id=-1, grow_policy=&#x27;depthwise&#x27;,\n",
       "              importance_type=None, interaction_constraints=&#x27;&#x27;,\n",
       "              learning_rate=0.20441606237302828, max_bin=256,\n",
       "              max_cat_to_onehot=4, max_delta_step=0, max_depth=9, max_leaves=0,\n",
       "              min_child_weight=10, missing=nan, monotone_constraints=&#x27;()&#x27;,\n",
       "              n_estimators=100, n_jobs=-1, nthread=-1, num_parallel_tree=1,\n",
       "              predictor=&#x27;auto&#x27;, random_state=12345, reg_alpha=0, ...)</pre><b>In a Jupyter environment, please rerun this cell to show the HTML representation or trust the notebook. <br />On GitHub, the HTML representation is unable to render, please try loading this page with nbviewer.org.</b></div><div class=\"sk-container\" hidden><div class=\"sk-item\"><div class=\"sk-estimator sk-toggleable\"><input class=\"sk-toggleable__control sk-hidden--visually\" id=\"sk-estimator-id-3\" type=\"checkbox\" checked><label for=\"sk-estimator-id-3\" class=\"sk-toggleable__label sk-toggleable__label-arrow\">XGBClassifier</label><div class=\"sk-toggleable__content\"><pre>XGBClassifier(base_score=0.5, booster=&#x27;gbtree&#x27;, callbacks=None,\n",
       "              colsample_bylevel=1, colsample_bynode=1,\n",
       "              colsample_bytree=0.2676341902399038, early_stopping_rounds=None,\n",
       "              enable_categorical=False, eval_metric=&#x27;auc&#x27;,\n",
       "              gamma=3.4556072704304777, gpu_id=-1, grow_policy=&#x27;depthwise&#x27;,\n",
       "              importance_type=None, interaction_constraints=&#x27;&#x27;,\n",
       "              learning_rate=0.20441606237302828, max_bin=256,\n",
       "              max_cat_to_onehot=4, max_delta_step=0, max_depth=9, max_leaves=0,\n",
       "              min_child_weight=10, missing=nan, monotone_constraints=&#x27;()&#x27;,\n",
       "              n_estimators=100, n_jobs=-1, nthread=-1, num_parallel_tree=1,\n",
       "              predictor=&#x27;auto&#x27;, random_state=12345, reg_alpha=0, ...)</pre></div></div></div></div></div>"
      ],
      "text/plain": [
       "XGBClassifier(base_score=0.5, booster='gbtree', callbacks=None,\n",
       "              colsample_bylevel=1, colsample_bynode=1,\n",
       "              colsample_bytree=0.2676341902399038, early_stopping_rounds=None,\n",
       "              enable_categorical=False, eval_metric='auc',\n",
       "              gamma=3.4556072704304777, gpu_id=-1, grow_policy='depthwise',\n",
       "              importance_type=None, interaction_constraints='',\n",
       "              learning_rate=0.20441606237302828, max_bin=256,\n",
       "              max_cat_to_onehot=4, max_delta_step=0, max_depth=9, max_leaves=0,\n",
       "              min_child_weight=10, missing=nan, monotone_constraints='()',\n",
       "              n_estimators=100, n_jobs=-1, nthread=-1, num_parallel_tree=1,\n",
       "              predictor='auto', random_state=12345, reg_alpha=0, ...)"
      ]
     },
     "execution_count": 120,
     "metadata": {},
     "output_type": "execute_result"
    }
   ],
   "source": [
    "xgbr =  xgb.XGBClassifier(**params, random_state=12345, nthread=-1)\n",
    "xgbr.fit(X_train_res, y_train_res)"
   ]
  },
  {
   "cell_type": "code",
   "execution_count": 129,
   "metadata": {},
   "outputs": [
    {
     "name": "stdout",
     "output_type": "stream",
     "text": [
      "Test Accuracy score 0.9764712074955259\n",
      "ROC AUC Score 0.5346194761650499\n",
      "              precision    recall  f1-score   support\n",
      "\n",
      "         0.0       0.99      0.99      0.99     18751\n",
      "         1.0       0.08      0.08      0.08       247\n",
      "\n",
      "    accuracy                           0.98     18998\n",
      "   macro avg       0.54      0.53      0.54     18998\n",
      "weighted avg       0.98      0.98      0.98     18998\n",
      "\n"
     ]
    }
   ],
   "source": [
    "y_pred = xgbr.predict(X_test)\n",
    "testing_accuracy = accuracy_score(y_test, y_pred)\n",
    "roc_auc = roc_auc_score(y_test,y_pred)\n",
    "print(\"Test Accuracy score {0}\".format(testing_accuracy))\n",
    "print(\"ROC AUC Score {0}\".format(roc_auc))\n",
    "print(classification_report(y_test, y_pred))"
   ]
  },
  {
   "cell_type": "code",
   "execution_count": 79,
   "metadata": {},
   "outputs": [],
   "source": [
    "def ml_modelling(xtrain,ytrain,xtest,ytest):\n",
    "    global model, y_pred\n",
    "    model = AutoSklearnClassifier(\n",
    "        time_left_for_this_task=120,\n",
    "        per_run_time_limit=30,\n",
    "        tmp_folder='/tmp/autosklearn_resampling',\n",
    "        disable_evaluator_output=False,\n",
    "        resampling_strategy='cv',\n",
    "        resampling_strategy_arguments={'folds': 5}\n",
    "    )\n",
    "    model.fit(xtrain,ytrain)\n",
    "    y_pred = model.predict(xtest)"
   ]
  },
  {
   "cell_type": "markdown",
   "metadata": {},
   "source": [
    "Modelling (Auto-Sklearn)"
   ]
  },
  {
   "cell_type": "code",
   "execution_count": 82,
   "metadata": {},
   "outputs": [
    {
     "name": "stdout",
     "output_type": "stream",
     "text": [
      "Test Accuracy score 0.9869986314348879\n",
      "ROC AUC Score 0.5\n",
      "              precision    recall  f1-score   support\n",
      "\n",
      "         0.0       0.99      1.00      0.99     18751\n",
      "         1.0       0.00      0.00      0.00       247\n",
      "\n",
      "    accuracy                           0.99     18998\n",
      "   macro avg       0.49      0.50      0.50     18998\n",
      "weighted avg       0.97      0.99      0.98     18998\n",
      "\n"
     ]
    },
    {
     "name": "stderr",
     "output_type": "stream",
     "text": [
      "/home/matthewfarant123/masa_hackathon_venv/lib/python3.8/site-packages/sklearn/metrics/_classification.py:1334: UndefinedMetricWarning: Precision and F-score are ill-defined and being set to 0.0 in labels with no predicted samples. Use `zero_division` parameter to control this behavior.\n",
      "  _warn_prf(average, modifier, msg_start, len(result))\n",
      "/home/matthewfarant123/masa_hackathon_venv/lib/python3.8/site-packages/sklearn/metrics/_classification.py:1334: UndefinedMetricWarning: Precision and F-score are ill-defined and being set to 0.0 in labels with no predicted samples. Use `zero_division` parameter to control this behavior.\n",
      "  _warn_prf(average, modifier, msg_start, len(result))\n",
      "/home/matthewfarant123/masa_hackathon_venv/lib/python3.8/site-packages/sklearn/metrics/_classification.py:1334: UndefinedMetricWarning: Precision and F-score are ill-defined and being set to 0.0 in labels with no predicted samples. Use `zero_division` parameter to control this behavior.\n",
      "  _warn_prf(average, modifier, msg_start, len(result))\n"
     ]
    }
   ],
   "source": [
    "# With imbalanced dataset\n",
    "ml_modelling(X_train,y_train,X_test,y_test)\n",
    "testing_accuracy = accuracy_score(y_test, y_pred)\n",
    "roc_auc = roc_auc_score(y_test,y_pred)\n",
    "print(\"Test Accuracy score {0}\".format(testing_accuracy))\n",
    "print(\"ROC AUC Score {0}\".format(roc_auc))\n",
    "print(classification_report(y_test, y_pred))"
   ]
  },
  {
   "cell_type": "code",
   "execution_count": 85,
   "metadata": {},
   "outputs": [
    {
     "name": "stdout",
     "output_type": "stream",
     "text": [
      "ROC AUC Score 0.5\n",
      "ROC AUC Score 0.5\n"
     ]
    }
   ],
   "source": [
    "# With balanced dataset\n",
    "combinations = [\n",
    "    SMOTEENN(random_state=7),\n",
    "    SMOTETomek(random_state=7)\n",
    "]\n",
    "\n",
    "for method in combinations:\n",
    "    X_train_res, y_train_res = method.fit_resample(X_train, y_train.ravel())\n",
    "    ml_modelling(X_train_res,y_train_res,X_test,y_test)\n",
    "    roc_auc = roc_auc_score(y_test,y_pred)\n",
    "    print(\"ROC AUC Score {0}\".format(roc_auc))"
   ]
  },
  {
   "cell_type": "markdown",
   "metadata": {},
   "source": [
    "Modelling (Auto-Keras)"
   ]
  },
  {
   "cell_type": "code",
   "execution_count": 50,
   "metadata": {},
   "outputs": [
    {
     "name": "stdout",
     "output_type": "stream",
     "text": [
      "Trial 3 Complete [00h 10m 28s]\n",
      "val_accuracy: 1.0\n",
      "\n",
      "Best val_accuracy So Far: 1.0\n",
      "Total elapsed time: 00h 31m 37s\n",
      "Epoch 1/10\n",
      "2729/2729 [==============================] - 20s 6ms/step - loss: 0.0489 - accuracy: 0.9876\n",
      "Epoch 2/10\n",
      "2729/2729 [==============================] - 17s 6ms/step - loss: 0.0856 - accuracy: 0.9787\n",
      "Epoch 3/10\n",
      "2729/2729 [==============================] - 17s 6ms/step - loss: 0.0702 - accuracy: 0.9811\n",
      "Epoch 4/10\n",
      "2729/2729 [==============================] - 17s 6ms/step - loss: 0.0721 - accuracy: 0.9807\n",
      "Epoch 5/10\n",
      "2729/2729 [==============================] - 18s 7ms/step - loss: 0.0667 - accuracy: 0.9820\n",
      "Epoch 6/10\n",
      "2729/2729 [==============================] - 18s 6ms/step - loss: 0.0652 - accuracy: 0.9839\n",
      "Epoch 7/10\n",
      "2729/2729 [==============================] - 17s 6ms/step - loss: 0.0680 - accuracy: 0.9835\n",
      "Epoch 8/10\n",
      "2729/2729 [==============================] - 18s 6ms/step - loss: 0.0744 - accuracy: 0.9835\n",
      "Epoch 9/10\n",
      "2729/2729 [==============================] - 17s 6ms/step - loss: 0.0658 - accuracy: 0.9833\n",
      "Epoch 10/10\n",
      "2729/2729 [==============================] - 18s 7ms/step - loss: 0.0652 - accuracy: 0.9836\n",
      "594/594 [==============================] - 8s 10ms/step\n",
      "594/594 [==============================] - 7s 12ms/step\n",
      "594/594 [==============================] - 7s 8ms/step - loss: 3039.3281 - accuracy: 0.0153\n",
      "[3039.328125, 0.015264764428138733]\n"
     ]
    }
   ],
   "source": [
    "# It tries 10 different models.\n",
    "clf = ak.StructuredDataClassifier(overwrite=True, max_trials=3)\n",
    "# Feed the structured data classifier with training data.\n",
    "clf.fit(X_train_res, y_train_res, epochs=10)\n",
    "# Predict with the best model.\n",
    "predicted_y = clf.predict(X_test)\n",
    "# Evaluate the best model with testing data.\n",
    "print(clf.evaluate(X_test, y_test))"
   ]
  },
  {
   "cell_type": "code",
   "execution_count": 51,
   "metadata": {},
   "outputs": [
    {
     "name": "stdout",
     "output_type": "stream",
     "text": [
      "              precision    recall  f1-score   support\n",
      "\n",
      "         0.0       1.00      0.00      0.00     18748\n",
      "         1.0       0.01      1.00      0.03       250\n",
      "\n",
      "    accuracy                           0.02     18998\n",
      "   macro avg       0.51      0.50      0.02     18998\n",
      "weighted avg       0.99      0.02      0.00     18998\n",
      "\n"
     ]
    }
   ],
   "source": [
    "print(classification_report(y_test, predicted_y))"
   ]
  }
 ],
 "metadata": {
  "kernelspec": {
   "display_name": "masa-kernel",
   "language": "python",
   "name": "masa-kernel"
  },
  "language_info": {
   "codemirror_mode": {
    "name": "ipython",
    "version": 3
   },
   "file_extension": ".py",
   "mimetype": "text/x-python",
   "name": "python",
   "nbconvert_exporter": "python",
   "pygments_lexer": "ipython3",
   "version": "3.8.10"
  },
  "orig_nbformat": 4
 },
 "nbformat": 4,
 "nbformat_minor": 2
}
